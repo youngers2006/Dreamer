{
 "cells": [
  {
   "cell_type": "code",
   "execution_count": 1,
   "id": "c7c9541d",
   "metadata": {},
   "outputs": [],
   "source": [
    "import torch\n",
    "import torch.nn as nn\n",
    "import gymnasium as gym\n",
    "import matplotlib.pyplot as plt\n",
    "import numpy as np"
   ]
  },
  {
   "cell_type": "code",
   "execution_count": 2,
   "id": "1320e8fe",
   "metadata": {},
   "outputs": [
    {
     "name": "stdout",
     "output_type": "stream",
     "text": [
      "GPU selected\n"
     ]
    }
   ],
   "source": [
    "if torch.cuda.is_available():\n",
    "    device = 'cuda'\n",
    "    print(\"GPU selected\")\n",
    "else:\n",
    "    device = 'cpu'\n",
    "    print(\"CPU selected for debugging\")"
   ]
  },
  {
   "cell_type": "code",
   "execution_count": 18,
   "id": "7d5706da",
   "metadata": {},
   "outputs": [],
   "source": [
    "class SequenceModel(nn.Module):\n",
    "    def __init__(self, latent_num_rows, latent_num_columns, hidden_dim, action_dim, *, num_layers=1, device='cpu'):\n",
    "        super().__init__()\n",
    "        self.latent_dim = latent_num_columns * latent_num_rows\n",
    "        self.hidden_dim = hidden_dim\n",
    "        self.num_layers = num_layers\n",
    "        self.device = device\n",
    "\n",
    "        self.flatten = nn.Flatten(start_dim=2)\n",
    "        self.GRU = nn.GRU(\n",
    "            input_size=self.latent_dim + action_dim, \n",
    "            hidden_size=hidden_dim, \n",
    "            num_layers=num_layers, \n",
    "            batch_first=True,\n",
    "            device=device\n",
    "        )\n",
    "\n",
    "    def forward(self, last_latent_state: torch.tensor, last_hidden_state: torch.tensor, last_action: torch.tensor):\n",
    "        last_latent_state = self.flatten(last_latent_state)\n",
    "        input_tensor = torch.cat((last_latent_state, last_action), dim=-1) # (B, S, LR * LC + a)\n",
    "        _, hidden = self.GRU(input_tensor, last_hidden_state)\n",
    "        return hidden"
   ]
  },
  {
   "cell_type": "code",
   "execution_count": 4,
   "id": "50fab164",
   "metadata": {},
   "outputs": [],
   "source": [
    "env_id = \"CarRacing-v3\"\n",
    "env = gym.make(env_id, continuous=True)"
   ]
  },
  {
   "cell_type": "code",
   "execution_count": 7,
   "id": "aa5440bd",
   "metadata": {},
   "outputs": [
    {
     "name": "stdout",
     "output_type": "stream",
     "text": [
      "torch.Size([1, 1, 3])\n",
      "tensor([[[0.7011, 0.8323, 0.7808]]], device='cuda:0')\n"
     ]
    }
   ],
   "source": [
    "last_action = env.action_space.sample()\n",
    "last_action = torch.tensor(last_action, dtype=torch.float32, device=device). unsqueeze(0).unsqueeze(0)\n",
    "last_latent = torch.zeros(1, 1, 32, 32, dtype=torch.float32, device=device)\n",
    "last_hidden = torch.zeros(1, 1, 100, dtype=torch.float32, device=device)\n",
    "\n",
    "print(last_action.shape)\n",
    "print(last_action)"
   ]
  },
  {
   "cell_type": "code",
   "execution_count": 19,
   "id": "2b6dcf2f",
   "metadata": {},
   "outputs": [],
   "source": [
    "seq_model = SequenceModel(32, 32, 100, 3, num_layers=1, device=device)"
   ]
  },
  {
   "cell_type": "code",
   "execution_count": 20,
   "id": "0db2ff6f",
   "metadata": {},
   "outputs": [],
   "source": [
    "hidden = seq_model.forward(last_latent, last_hidden, last_action)"
   ]
  },
  {
   "cell_type": "code",
   "execution_count": 21,
   "id": "9af09c03",
   "metadata": {},
   "outputs": [
    {
     "name": "stdout",
     "output_type": "stream",
     "text": [
      "torch.Size([1, 1, 100])\n",
      "tensor([[[-0.0148,  0.0346,  0.0425, -0.0593,  0.0131,  0.0412, -0.0003,\n",
      "          -0.0260, -0.0390,  0.0393, -0.0533, -0.0210,  0.0254, -0.0484,\n",
      "           0.0676, -0.0813,  0.0615,  0.0104, -0.0602,  0.0287,  0.0646,\n",
      "          -0.0297,  0.0726, -0.0370, -0.0611, -0.0099, -0.0132, -0.0336,\n",
      "           0.0432,  0.0183, -0.0070, -0.0020, -0.0910, -0.0823,  0.0788,\n",
      "          -0.0059,  0.0723, -0.0125, -0.0208, -0.0840,  0.1058, -0.0017,\n",
      "           0.0103, -0.0262,  0.0736, -0.1168, -0.0258, -0.0325, -0.0951,\n",
      "           0.0036, -0.0589,  0.0432, -0.0712, -0.0021,  0.0692,  0.0194,\n",
      "          -0.0708,  0.0711,  0.0533, -0.0279, -0.0116, -0.0601,  0.0055,\n",
      "           0.0932, -0.0118, -0.0057, -0.0492,  0.0030,  0.0181, -0.0617,\n",
      "          -0.0276,  0.0537, -0.0631,  0.0726,  0.0374,  0.0003, -0.0430,\n",
      "           0.0530, -0.0532, -0.0038,  0.0385, -0.0308, -0.0023, -0.0657,\n",
      "           0.0002,  0.0027,  0.0427, -0.0411, -0.1083,  0.0702, -0.0729,\n",
      "          -0.0623,  0.0091,  0.0058, -0.0352, -0.0090, -0.0431,  0.1106,\n",
      "          -0.0695,  0.0385]]], device='cuda:0', grad_fn=<CudnnRnnBackward0>)\n"
     ]
    }
   ],
   "source": [
    "print(hidden.shape)\n",
    "print(hidden)"
   ]
  }
 ],
 "metadata": {
  "kernelspec": {
   "display_name": "pytorch_RL_gym",
   "language": "python",
   "name": "python3"
  },
  "language_info": {
   "codemirror_mode": {
    "name": "ipython",
    "version": 3
   },
   "file_extension": ".py",
   "mimetype": "text/x-python",
   "name": "python",
   "nbconvert_exporter": "python",
   "pygments_lexer": "ipython3",
   "version": "3.13.5"
  }
 },
 "nbformat": 4,
 "nbformat_minor": 5
}
